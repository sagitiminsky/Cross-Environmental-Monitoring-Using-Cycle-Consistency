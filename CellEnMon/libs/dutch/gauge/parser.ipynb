{
 "cells": [
  {
   "cell_type": "code",
   "execution_count": 1,
   "id": "ec9172b5",
   "metadata": {
    "scrolled": true
   },
   "outputs": [
    {
     "name": "stdout",
     "output_type": "stream",
     "text": [
      "Looking in indexes: https://pypi.org/simple, https://pip.repos.neuron.amazonaws.com\n",
      "Collecting pyproj\n",
      "  Downloading pyproj-3.4.0-cp38-cp38-manylinux_2_17_x86_64.manylinux2014_x86_64.whl (7.8 MB)\n",
      "\u001b[2K     \u001b[90m━━━━━━━━━━━━━━━━━━━━━━━━━━━━━━━━━━━━━━━━\u001b[0m \u001b[32m7.8/7.8 MB\u001b[0m \u001b[31m54.6 MB/s\u001b[0m eta \u001b[36m0:00:00\u001b[0m00:01\u001b[0m00:01\u001b[0m\n",
      "\u001b[?25hRequirement already satisfied: certifi in /home/ec2-user/anaconda3/envs/python3/lib/python3.8/site-packages (from pyproj) (2021.10.8)\n",
      "Installing collected packages: pyproj\n",
      "Successfully installed pyproj-3.4.0\n",
      "\u001b[33mWARNING: You are using pip version 22.0.4; however, version 22.2.2 is available.\n",
      "You should consider upgrading via the '/home/ec2-user/anaconda3/envs/python3/bin/python -m pip install --upgrade pip' command.\u001b[0m\u001b[33m\n",
      "\u001b[0m"
     ]
    },
    {
     "name": "stderr",
     "output_type": "stream",
     "text": [
      "/home/ec2-user/anaconda3/envs/python3/lib/python3.8/site-packages/pyproj/crs/crs.py:141: FutureWarning: '+init=<authority>:<code>' syntax is deprecated. '<authority>:<code>' is the preferred initialization method. When making the change, be mindful of axis order changes: https://pyproj4.github.io/pyproj/stable/gotchas.html#axis-order-changes-in-proj-6\n",
      "  in_crs_string = _prepare_from_proj_string(in_crs_string)\n",
      "/home/ec2-user/anaconda3/envs/python3/lib/python3.8/site-packages/pyproj/crs/crs.py:141: FutureWarning: '+init=<authority>:<code>' syntax is deprecated. '<authority>:<code>' is the preferred initialization method. When making the change, be mindful of axis order changes: https://pyproj4.github.io/pyproj/stable/gotchas.html#axis-order-changes-in-proj-6\n",
      "  in_crs_string = _prepare_from_proj_string(in_crs_string)\n"
     ]
    }
   ],
   "source": [
    "import pandas as pd\n",
    "import os\n",
    "import hashlib\n",
    "import pandas as pd\n",
    "pd.options.mode.chained_assignment = None  # default='warn'\n",
    "!pip3 install pyproj\n",
    "from pyproj import Proj, transform\n",
    "inProj = Proj(init='epsg:28992')\n",
    "outProj = Proj(init='epsg:4326')"
   ]
  },
  {
   "cell_type": "code",
   "execution_count": 2,
   "id": "f63af2e6",
   "metadata": {},
   "outputs": [],
   "source": [
    "data_file_path=\"~/SageMaker/Rain_Estimation_Using_Loosely_Matched_Stations/Gauges_20110609_20110813.csv\"\n",
    "metadata_file_path = \"~/SageMaker/Rain_Estimation_Using_Loosely_Matched_Stations/dutch_gauge_coo.csv\""
   ]
  },
  {
   "cell_type": "code",
   "execution_count": 3,
   "id": "c12a7b38",
   "metadata": {},
   "outputs": [],
   "source": [
    "df = pd.read_csv(data_file_path, sep=\",\", index_col=False)\n",
    "metadata_df  = pd.read_csv(metadata_file_path, sep=\",\", index_col=False)"
   ]
  },
  {
   "cell_type": "code",
   "execution_count": 4,
   "id": "569310e7",
   "metadata": {},
   "outputs": [],
   "source": [
    "df[df.RH==\"-1\"]=\"0\"\n",
    "df.drop(df[df.RH==\" \"].index,inplace=True)"
   ]
  },
  {
   "cell_type": "code",
   "execution_count": 5,
   "id": "7da2a6de",
   "metadata": {},
   "outputs": [
    {
     "data": {
      "text/plain": [
       "32"
      ]
     },
     "execution_count": 5,
     "metadata": {},
     "output_type": "execute_result"
    }
   ],
   "source": [
    "stations=df.STN.unique()\n",
    "stations = stations[stations != \"0\"]\n",
    "len(stations)"
   ]
  },
  {
   "cell_type": "code",
   "execution_count": 6,
   "id": "d0835ccd",
   "metadata": {},
   "outputs": [
    {
     "data": {
      "text/plain": [
       "array([210, 235, 240, 249, 251, 257, 260, 267, 269, 270, 273, 275, 277,\n",
       "       278, 279, 280, 283, 286, 290, 310, 319, 323, 330, 344, 348, 350,\n",
       "       356, 370, 375, 377, 380, 391], dtype=object)"
      ]
     },
     "execution_count": 6,
     "metadata": {},
     "output_type": "execute_result"
    }
   ],
   "source": [
    "stations"
   ]
  },
  {
   "cell_type": "code",
   "execution_count": 7,
   "id": "4608a1d8",
   "metadata": {},
   "outputs": [],
   "source": [
    "def convert_from_dutch_coo_to_longitude_latitude(x1,y1):\n",
    "    return transform(inProj,outProj,x1*1000,y1*1000)"
   ]
  },
  {
   "cell_type": "code",
   "execution_count": 8,
   "id": "941e5c5d",
   "metadata": {
    "scrolled": false
   },
   "outputs": [
    {
     "name": "stderr",
     "output_type": "stream",
     "text": [
      "/tmp/ipykernel_28437/1893588703.py:2: DeprecationWarning: This function is deprecated. See: https://pyproj4.github.io/pyproj/stable/gotchas.html#upgrading-to-pyproj-2-from-pyproj-1\n",
      "  return transform(inProj,outProj,x1*1000,y1*1000)\n"
     ]
    }
   ],
   "source": [
    "metadata_df=metadata_df.join(metadata_df.apply(lambda x: pd.Series({\"long\": convert_from_dutch_coo_to_longitude_latitude(x.POS_X, x.POS_Y)[0],\n",
    "                                       \"lat\": convert_from_dutch_coo_to_longitude_latitude(x.POS_X, x.POS_Y)[1]}), axis=1))"
   ]
  },
  {
   "cell_type": "code",
   "execution_count": 9,
   "id": "84a19995",
   "metadata": {},
   "outputs": [
    {
     "data": {
      "text/html": [
       "<div>\n",
       "<style scoped>\n",
       "    .dataframe tbody tr th:only-of-type {\n",
       "        vertical-align: middle;\n",
       "    }\n",
       "\n",
       "    .dataframe tbody tr th {\n",
       "        vertical-align: top;\n",
       "    }\n",
       "\n",
       "    .dataframe thead th {\n",
       "        text-align: right;\n",
       "    }\n",
       "</style>\n",
       "<table border=\"1\" class=\"dataframe\">\n",
       "  <thead>\n",
       "    <tr style=\"text-align: right;\">\n",
       "      <th></th>\n",
       "      <th>STN</th>\n",
       "      <th>STARTT</th>\n",
       "      <th>STOPT</th>\n",
       "      <th>LOCATIE</th>\n",
       "      <th>HOOGTE</th>\n",
       "      <th>POS_X</th>\n",
       "      <th>POS_Y</th>\n",
       "      <th>POS_NB</th>\n",
       "      <th>POS_OL</th>\n",
       "      <th>long</th>\n",
       "      <th>lat</th>\n",
       "    </tr>\n",
       "  </thead>\n",
       "  <tbody>\n",
       "    <tr>\n",
       "      <th>0</th>\n",
       "      <td>201</td>\n",
       "      <td>20090313</td>\n",
       "      <td>99991231</td>\n",
       "      <td>platform D15-FA-1</td>\n",
       "      <td>42.7</td>\n",
       "      <td>-4.5</td>\n",
       "      <td>707.1</td>\n",
       "      <td>54.3</td>\n",
       "      <td>2.9</td>\n",
       "      <td>2.936152</td>\n",
       "      <td>54.323898</td>\n",
       "    </tr>\n",
       "    <tr>\n",
       "      <th>1</th>\n",
       "      <td>203</td>\n",
       "      <td>20091109</td>\n",
       "      <td>99991231</td>\n",
       "      <td>platform P11-B</td>\n",
       "      <td>41.8</td>\n",
       "      <td>15.7</td>\n",
       "      <td>487.6</td>\n",
       "      <td>52.4</td>\n",
       "      <td>3.3</td>\n",
       "      <td>3.342154</td>\n",
       "      <td>52.358603</td>\n",
       "    </tr>\n",
       "    <tr>\n",
       "      <th>2</th>\n",
       "      <td>204</td>\n",
       "      <td>20061206</td>\n",
       "      <td>99991231</td>\n",
       "      <td>platform K14-FA-1C</td>\n",
       "      <td>41.8</td>\n",
       "      <td>37.6</td>\n",
       "      <td>588.3</td>\n",
       "      <td>53.3</td>\n",
       "      <td>3.6</td>\n",
       "      <td>3.627506</td>\n",
       "      <td>53.268329</td>\n",
       "    </tr>\n",
       "    <tr>\n",
       "      <th>3</th>\n",
       "      <td>205</td>\n",
       "      <td>20090313</td>\n",
       "      <td>99991231</td>\n",
       "      <td>platform A12-CPP</td>\n",
       "      <td>48.4</td>\n",
       "      <td>55.0</td>\n",
       "      <td>825.1</td>\n",
       "      <td>55.4</td>\n",
       "      <td>3.8</td>\n",
       "      <td>3.809936</td>\n",
       "      <td>55.397968</td>\n",
       "    </tr>\n",
       "    <tr>\n",
       "      <th>4</th>\n",
       "      <td>206</td>\n",
       "      <td>20061206</td>\n",
       "      <td>99991231</td>\n",
       "      <td>platform F16-A</td>\n",
       "      <td>43.4</td>\n",
       "      <td>65.1</td>\n",
       "      <td>682.0</td>\n",
       "      <td>54.1</td>\n",
       "      <td>4.0</td>\n",
       "      <td>4.012695</td>\n",
       "      <td>54.115259</td>\n",
       "    </tr>\n",
       "  </tbody>\n",
       "</table>\n",
       "</div>"
      ],
      "text/plain": [
       "   STN    STARTT     STOPT             LOCATIE  HOOGTE  POS_X  POS_Y  POS_NB  \\\n",
       "0  201  20090313  99991231   platform D15-FA-1    42.7   -4.5  707.1    54.3   \n",
       "1  203  20091109  99991231      platform P11-B    41.8   15.7  487.6    52.4   \n",
       "2  204  20061206  99991231  platform K14-FA-1C    41.8   37.6  588.3    53.3   \n",
       "3  205  20090313  99991231    platform A12-CPP    48.4   55.0  825.1    55.4   \n",
       "4  206  20061206  99991231      platform F16-A    43.4   65.1  682.0    54.1   \n",
       "\n",
       "   POS_OL      long        lat  \n",
       "0     2.9  2.936152  54.323898  \n",
       "1     3.3  3.342154  52.358603  \n",
       "2     3.6  3.627506  53.268329  \n",
       "3     3.8  3.809936  55.397968  \n",
       "4     4.0  4.012695  54.115259  "
      ]
     },
     "execution_count": 9,
     "metadata": {},
     "output_type": "execute_result"
    }
   ],
   "source": [
    "metadata_df.head()"
   ]
  },
  {
   "cell_type": "code",
   "execution_count": 10,
   "id": "39f78fa7",
   "metadata": {},
   "outputs": [],
   "source": [
    "def convert_date(date):\n",
    "    yyyy=date[:4]\n",
    "    mm=date[4:6]\n",
    "    dd=date[6:8]\n",
    "    return f\"{dd}-{mm}-{yyyy}\"\n",
    "\n",
    "def convert_time(time):\n",
    "    if time==\"24\":\n",
    "        hh=\"00\"\n",
    "    else:\n",
    "        hh=f\"0{time}\" if len(time)==1 else f\"{time}\"\n",
    "    \n",
    "    mm=\"00\"\n",
    "    \n",
    "    return f\"{hh}:{mm}\"\n",
    "    "
   ]
  },
  {
   "cell_type": "code",
   "execution_count": 11,
   "id": "a0b17402",
   "metadata": {},
   "outputs": [
    {
     "data": {
      "text/plain": [
       "array([210, 235, 240, 249, 251, 257, 260, 267, 269, 270, 273, 275, 277,\n",
       "       278, 279, 280, 283, 286, 290, 310, 319, 323, 330, 344, 348, 350,\n",
       "       356, 370, 375, 377, 380, 391], dtype=object)"
      ]
     },
     "execution_count": 11,
     "metadata": {},
     "output_type": "execute_result"
    }
   ],
   "source": [
    "stations"
   ]
  },
  {
   "cell_type": "code",
   "execution_count": 12,
   "id": "dbc3f965",
   "metadata": {},
   "outputs": [],
   "source": [
    "df[\"Time\"]=df[\"YYYYMMDD\"].astype(str).apply(convert_date)+\" \"+df[\"H\"].astype(str).apply(convert_time)\n",
    "df.RH=df.RH.astype(int)//10\n",
    "df.rename(columns={\"RH\": \"RainAmout[mm/h]\"}, inplace=True)"
   ]
  },
  {
   "cell_type": "code",
   "execution_count": 13,
   "id": "5a8289b1",
   "metadata": {},
   "outputs": [],
   "source": [
    "# for station in stations:\n",
    "#     df[df.STN==station].apply(lambda x: pd.Series({\"Time\":convert_datetime_to_time(x.YYYYMMDD,x.H)}\n",
    "    "
   ]
  },
  {
   "cell_type": "code",
   "execution_count": 14,
   "id": "cc135b51",
   "metadata": {},
   "outputs": [
    {
     "name": "stdout",
     "output_type": "stream",
     "text": [
      "This station does not exist:210\n"
     ]
    }
   ],
   "source": [
    "columns=[\"Time\",\"RainAmout[mm/h]\"]\n",
    "root=\"~/SageMaker/Rain_Estimation_Using_Loosely_Matched_Stations/CellEnMon/datasets/ims/09062011_13082011/raw\"\n",
    "for station in stations:\n",
    "    d=df[df.STN==station]\n",
    "    try:\n",
    "        long=metadata_df[metadata_df.STN==station].long.iloc[0]\n",
    "        lat=metadata_df[metadata_df.STN==station].lat.iloc[0]\n",
    "        d.to_csv(f'{root}/{d.STN.iloc[0]}_{long:.3f}_{lat:.3f}.csv',index=False, columns=columns)\n",
    "    except IndexError:\n",
    "        print(f\"This station does not exist:{station}\")"
   ]
  },
  {
   "cell_type": "code",
   "execution_count": null,
   "id": "80879a33",
   "metadata": {},
   "outputs": [],
   "source": []
  }
 ],
 "metadata": {
  "kernelspec": {
   "display_name": "conda_python3",
   "language": "python",
   "name": "conda_python3"
  },
  "language_info": {
   "codemirror_mode": {
    "name": "ipython",
    "version": 3
   },
   "file_extension": ".py",
   "mimetype": "text/x-python",
   "name": "python",
   "nbconvert_exporter": "python",
   "pygments_lexer": "ipython3",
   "version": "3.8.12"
  }
 },
 "nbformat": 4,
 "nbformat_minor": 5
}
