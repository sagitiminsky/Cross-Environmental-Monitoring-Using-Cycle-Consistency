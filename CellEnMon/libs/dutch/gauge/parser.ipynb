{
 "cells": [
  {
   "cell_type": "code",
   "execution_count": 4,
   "id": "0b614470",
   "metadata": {},
   "outputs": [],
   "source": [
    "import pandas as pd\n",
    "import os\n",
    "import hashlib\n",
    "import pandas as pd\n",
    "pd.options.mode.chained_assignment = None  # default='warn'"
   ]
  },
  {
   "cell_type": "code",
   "execution_count": 5,
   "id": "cf9d1913",
   "metadata": {},
   "outputs": [],
   "source": [
    "file_path=\"~/SageMaker/Rain_Estimation_Using_Loosely_Matched_Stations/Gauges_20110609_20110813.csv\""
   ]
  },
  {
   "cell_type": "code",
   "execution_count": 6,
   "id": "32864f64",
   "metadata": {},
   "outputs": [],
   "source": [
    "df = pd.read_csv(file_path, sep=\",\", index_col=False)"
   ]
  },
  {
   "cell_type": "code",
   "execution_count": 7,
   "id": "86cb0d6c",
   "metadata": {},
   "outputs": [],
   "source": [
    "df[df.RH==\"-1\"]=\"0\"\n",
    "df.drop(df[df.RH==\" \"].index,inplace=True)"
   ]
  },
  {
   "cell_type": "code",
   "execution_count": 9,
   "id": "91ae0776",
   "metadata": {},
   "outputs": [
    {
     "data": {
      "text/plain": [
       "32"
      ]
     },
     "execution_count": 9,
     "metadata": {},
     "output_type": "execute_result"
    }
   ],
   "source": [
    "stations=df.STN.unique()\n",
    "stations = stations[stations != \"0\"]\n",
    "len(stations)"
   ]
  },
  {
   "cell_type": "code",
   "execution_count": null,
   "id": "4780f208",
   "metadata": {},
   "outputs": [],
   "source": [
    "def convert_datetime_to_time(date,time):\n",
    "    yyyy=date[:4]\n",
    "    mm=date[4:6]\n",
    "    dd=date[6:8]\n",
    "    hh=f\"0{time}\" if str(time)==1 else f\"{time}\"\"\n",
    "    ss=\"00\"    \n",
    "    return(f\"{dd}/{mm}/{yyyy} {hh}:{ss}\")\n",
    "    "
   ]
  },
  {
   "cell_type": "code",
   "execution_count": null,
   "id": "98b138fd",
   "metadata": {},
   "outputs": [],
   "source": [
    "for station in stations:\n",
    "    "
   ]
  },
  {
   "cell_type": "code",
   "execution_count": 47,
   "id": "f97fe3c5",
   "metadata": {},
   "outputs": [
    {
     "data": {
      "text/html": [
       "<div>\n",
       "<style scoped>\n",
       "    .dataframe tbody tr th:only-of-type {\n",
       "        vertical-align: middle;\n",
       "    }\n",
       "\n",
       "    .dataframe tbody tr th {\n",
       "        vertical-align: top;\n",
       "    }\n",
       "\n",
       "    .dataframe thead th {\n",
       "        text-align: right;\n",
       "    }\n",
       "</style>\n",
       "<table border=\"1\" class=\"dataframe\">\n",
       "  <thead>\n",
       "    <tr style=\"text-align: right;\">\n",
       "      <th></th>\n",
       "      <th>STN</th>\n",
       "      <th>YYYYMMDD</th>\n",
       "      <th>H</th>\n",
       "      <th>RH</th>\n",
       "    </tr>\n",
       "  </thead>\n",
       "  <tbody>\n",
       "    <tr>\n",
       "      <th>1584</th>\n",
       "      <td>210</td>\n",
       "      <td>20110609</td>\n",
       "      <td>1</td>\n",
       "      <td>0</td>\n",
       "    </tr>\n",
       "    <tr>\n",
       "      <th>1585</th>\n",
       "      <td>210</td>\n",
       "      <td>20110609</td>\n",
       "      <td>2</td>\n",
       "      <td>0</td>\n",
       "    </tr>\n",
       "    <tr>\n",
       "      <th>1586</th>\n",
       "      <td>210</td>\n",
       "      <td>20110609</td>\n",
       "      <td>3</td>\n",
       "      <td>0</td>\n",
       "    </tr>\n",
       "    <tr>\n",
       "      <th>1587</th>\n",
       "      <td>210</td>\n",
       "      <td>20110609</td>\n",
       "      <td>4</td>\n",
       "      <td>0</td>\n",
       "    </tr>\n",
       "    <tr>\n",
       "      <th>1588</th>\n",
       "      <td>210</td>\n",
       "      <td>20110609</td>\n",
       "      <td>5</td>\n",
       "      <td>0</td>\n",
       "    </tr>\n",
       "    <tr>\n",
       "      <th>...</th>\n",
       "      <td>...</td>\n",
       "      <td>...</td>\n",
       "      <td>...</td>\n",
       "      <td>...</td>\n",
       "    </tr>\n",
       "    <tr>\n",
       "      <th>3163</th>\n",
       "      <td>210</td>\n",
       "      <td>20110813</td>\n",
       "      <td>20</td>\n",
       "      <td>0</td>\n",
       "    </tr>\n",
       "    <tr>\n",
       "      <th>3164</th>\n",
       "      <td>210</td>\n",
       "      <td>20110813</td>\n",
       "      <td>21</td>\n",
       "      <td>0</td>\n",
       "    </tr>\n",
       "    <tr>\n",
       "      <th>3165</th>\n",
       "      <td>210</td>\n",
       "      <td>20110813</td>\n",
       "      <td>22</td>\n",
       "      <td>0</td>\n",
       "    </tr>\n",
       "    <tr>\n",
       "      <th>3166</th>\n",
       "      <td>210</td>\n",
       "      <td>20110813</td>\n",
       "      <td>23</td>\n",
       "      <td>0</td>\n",
       "    </tr>\n",
       "    <tr>\n",
       "      <th>3167</th>\n",
       "      <td>210</td>\n",
       "      <td>20110813</td>\n",
       "      <td>24</td>\n",
       "      <td>0</td>\n",
       "    </tr>\n",
       "  </tbody>\n",
       "</table>\n",
       "<p>1401 rows × 4 columns</p>\n",
       "</div>"
      ],
      "text/plain": [
       "      STN  YYYYMMDD   H RH\n",
       "1584  210  20110609   1  0\n",
       "1585  210  20110609   2  0\n",
       "1586  210  20110609   3  0\n",
       "1587  210  20110609   4  0\n",
       "1588  210  20110609   5  0\n",
       "...   ...       ...  .. ..\n",
       "3163  210  20110813  20  0\n",
       "3164  210  20110813  21  0\n",
       "3165  210  20110813  22  0\n",
       "3166  210  20110813  23  0\n",
       "3167  210  20110813  24  0\n",
       "\n",
       "[1401 rows x 4 columns]"
      ]
     },
     "execution_count": 47,
     "metadata": {},
     "output_type": "execute_result"
    }
   ],
   "source": [
    "df[df.STN==210]"
   ]
  },
  {
   "cell_type": "code",
   "execution_count": null,
   "id": "57a37a62",
   "metadata": {},
   "outputs": [],
   "source": []
  }
 ],
 "metadata": {
  "kernelspec": {
   "display_name": "conda_python3",
   "language": "python",
   "name": "conda_python3"
  },
  "language_info": {
   "codemirror_mode": {
    "name": "ipython",
    "version": 3
   },
   "file_extension": ".py",
   "mimetype": "text/x-python",
   "name": "python",
   "nbconvert_exporter": "python",
   "pygments_lexer": "ipython3",
   "version": "3.8.12"
  }
 },
 "nbformat": 4,
 "nbformat_minor": 5
}
