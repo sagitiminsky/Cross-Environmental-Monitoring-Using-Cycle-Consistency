{
 "cells": [
  {
   "cell_type": "code",
   "execution_count": 1,
   "id": "182b17db",
   "metadata": {},
   "outputs": [],
   "source": [
    "import os"
   ]
  },
  {
   "cell_type": "code",
   "execution_count": 33,
   "id": "2f93bbed",
   "metadata": {},
   "outputs": [],
   "source": [
    "path_to_raw=\"/home/ec2-user/SageMaker/Rain_Estimation_Using_Loosely_Matched_Stations/CellEnMon/datasets/dme/09062011_13082011/raw\"\n",
    "path_to_raw2=\"/home/ec2-user/SageMaker/Rain_Estimation_Using_Loosely_Matched_Stations/CellEnMon/datasets/dme/09062011_13082011/raw2\"\n"
   ]
  },
  {
   "cell_type": "code",
   "execution_count": 53,
   "id": "5b3f5c8e",
   "metadata": {},
   "outputs": [],
   "source": [
    "from turfpy.measurement import boolean_point_in_polygon\n",
    "from geojson import Point, Polygon, Feature\n",
    "import shutil\n",
    "\n",
    "polygon = Polygon(\n",
    "    [\n",
    "        [\n",
    "            (5.180,52.097), #260\n",
    "            (5.145,51.857), #356\n",
    "            (4.926,51.968), #348\n",
    "        ]\n",
    "    ]\n",
    ")\n",
    "\n",
    "for link in os.listdir(path_to_raw2):\n",
    "    if link!=\".ipynb_checkpoints\":\n",
    "        T,XStart,YStart,R,XEnd,YEnd=link.split(\"_\")\n",
    "\n",
    "        YEnd=YEnd.replace(\".csv\",\"\")\n",
    "        YStart=float(YStart)\n",
    "        YEnd=float(YEnd)\n",
    "        YCenter=(YStart+YEnd)/2\n",
    "\n",
    "        XStart=float(XStart)\n",
    "        XEnd=float(XEnd)\n",
    "        XCenter=(XStart+XEnd)/2\n",
    "\n",
    "        point = Feature(geometry=Point((YCenter, XCenter)))\n",
    "\n",
    "        if boolean_point_in_polygon(point, polygon):\n",
    "            shutil.move(f\"{path_to_raw2}/{link}\", f\"{path_to_raw}/{link}\")"
   ]
  },
  {
   "cell_type": "code",
   "execution_count": 24,
   "id": "d8fa1888",
   "metadata": {},
   "outputs": [
    {
     "name": "stdout",
     "output_type": "stream",
     "text": [
      "Looking in indexes: https://pypi.org/simple, https://pip.repos.neuron.amazonaws.com\n",
      "Collecting turfpy\n",
      "  Downloading turfpy-0.0.7.tar.gz (37 kB)\n",
      "  Preparing metadata (setup.py) ... \u001b[?25ldone\n",
      "\u001b[?25hCollecting geojson\n",
      "  Downloading geojson-2.5.0-py2.py3-none-any.whl (14 kB)\n",
      "Collecting shapely\n",
      "  Downloading shapely-2.0.0-cp38-cp38-manylinux_2_17_x86_64.manylinux2014_x86_64.whl (2.3 MB)\n",
      "\u001b[2K     \u001b[90m━━━━━━━━━━━━━━━━━━━━━━━━━━━━━━━━━━━━━━━━\u001b[0m \u001b[32m2.3/2.3 MB\u001b[0m \u001b[31m26.9 MB/s\u001b[0m eta \u001b[36m0:00:00\u001b[0m:00:01\u001b[0m\n",
      "\u001b[?25hRequirement already satisfied: scipy in /home/ec2-user/anaconda3/envs/python3/lib/python3.8/site-packages (from turfpy) (1.5.3)\n",
      "Requirement already satisfied: numpy in /home/ec2-user/anaconda3/envs/python3/lib/python3.8/site-packages (from turfpy) (1.20.3)\n",
      "Building wheels for collected packages: turfpy\n",
      "  Building wheel for turfpy (setup.py) ... \u001b[?25ldone\n",
      "\u001b[?25h  Created wheel for turfpy: filename=turfpy-0.0.7-py3-none-any.whl size=39119 sha256=6ced461677c27c6fafa09c4054ccbba22ce8d9eaab9fdc3a2b800e03877d6648\n",
      "  Stored in directory: /home/ec2-user/.cache/pip/wheels/f7/f8/07/965ea3fe9ce3d94e9ee6815425f294500adc31eb4c14037c61\n",
      "Successfully built turfpy\n",
      "Installing collected packages: geojson, shapely, turfpy\n",
      "Successfully installed geojson-2.5.0 shapely-2.0.0 turfpy-0.0.7\n",
      "\u001b[33mWARNING: You are using pip version 22.0.4; however, version 22.3.1 is available.\n",
      "You should consider upgrading via the '/home/ec2-user/anaconda3/envs/python3/bin/python -m pip install --upgrade pip' command.\u001b[0m\u001b[33m\n",
      "\u001b[0m"
     ]
    }
   ],
   "source": [
    "!pip3 install turfpy"
   ]
  },
  {
   "cell_type": "code",
   "execution_count": 27,
   "id": "0dd5bfcf",
   "metadata": {},
   "outputs": [],
   "source": [
    "a,b,c=\"a_b_c.csv\".split(\"_\")"
   ]
  },
  {
   "cell_type": "code",
   "execution_count": 28,
   "id": "029a2979",
   "metadata": {},
   "outputs": [
    {
     "data": {
      "text/plain": [
       "'a'"
      ]
     },
     "execution_count": 28,
     "metadata": {},
     "output_type": "execute_result"
    }
   ],
   "source": [
    "a"
   ]
  },
  {
   "cell_type": "code",
   "execution_count": 29,
   "id": "49c0a477",
   "metadata": {},
   "outputs": [
    {
     "data": {
      "text/plain": [
       "'b'"
      ]
     },
     "execution_count": 29,
     "metadata": {},
     "output_type": "execute_result"
    }
   ],
   "source": [
    "b"
   ]
  },
  {
   "cell_type": "code",
   "execution_count": 30,
   "id": "dad70c47",
   "metadata": {},
   "outputs": [
    {
     "data": {
      "text/plain": [
       "'c.csv'"
      ]
     },
     "execution_count": 30,
     "metadata": {},
     "output_type": "execute_result"
    }
   ],
   "source": [
    "c"
   ]
  },
  {
   "cell_type": "code",
   "execution_count": null,
   "id": "529ce07d",
   "metadata": {},
   "outputs": [],
   "source": []
  }
 ],
 "metadata": {
  "kernelspec": {
   "display_name": "conda_python3",
   "language": "python",
   "name": "conda_python3"
  },
  "language_info": {
   "codemirror_mode": {
    "name": "ipython",
    "version": 3
   },
   "file_extension": ".py",
   "mimetype": "text/x-python",
   "name": "python",
   "nbconvert_exporter": "python",
   "pygments_lexer": "ipython3",
   "version": "3.8.12"
  }
 },
 "nbformat": 4,
 "nbformat_minor": 5
}
