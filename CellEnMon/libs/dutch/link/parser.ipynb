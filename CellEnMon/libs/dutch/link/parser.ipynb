{
 "cells": [
  {
   "cell_type": "code",
   "execution_count": 1,
   "id": "25bd14a6",
   "metadata": {},
   "outputs": [],
   "source": [
    "import pandas as pd\n",
    "import os\n",
    "import hashlib\n",
    "import pandas as pd\n",
    "pd.options.mode.chained_assignment = None  # default='warn'"
   ]
  },
  {
   "cell_type": "code",
   "execution_count": 2,
   "id": "14d14e37",
   "metadata": {},
   "outputs": [],
   "source": [
    "file_path=\"~/SageMaker/Rain_Estimation_Using_Loosely_Matched_Stations/CMLs_20110609_20110813.dat\""
   ]
  },
  {
   "cell_type": "code",
   "execution_count": 3,
   "id": "e8d56c8e",
   "metadata": {},
   "outputs": [],
   "source": [
    "df = pd.read_table(file_path, sep=\"\\s+\", index_col=False)"
   ]
  },
  {
   "cell_type": "code",
   "execution_count": 4,
   "id": "2f7d5c1b",
   "metadata": {},
   "outputs": [],
   "source": [
    "df[\"Start_Concat\"]=df[\"YStart\"].astype(str)+\" \"+df[\"XStart\"].astype(str)\n",
    "df[\"End_Concat\"]=df[\"YEnd\"].astype(str)+\" \"+df[\"XEnd\"].astype(str)"
   ]
  },
  {
   "cell_type": "code",
   "execution_count": 5,
   "id": "ae11221a",
   "metadata": {},
   "outputs": [],
   "source": [
    "def convert_to_four_letter_hash(concat):\n",
    "    h = hashlib.sha1(str.encode(concat))\n",
    "    d = h.digest()\n",
    "    s = \"\"\n",
    "    for i in range(0,4):\n",
    "        x = d[i] % 52\n",
    "        if x >= 26:\n",
    "            s += chr(ord('A') + x - 26)\n",
    "        else:\n",
    "            s += chr(ord('a') + x)\n",
    "    return s"
   ]
  },
  {
   "cell_type": "code",
   "execution_count": 6,
   "id": "21dca7b4",
   "metadata": {},
   "outputs": [],
   "source": [
    "def convert_datetime_to_time(datetime):\n",
    "    yyyy=datetime[:4]\n",
    "    mm=datetime[4:6]\n",
    "    dd=datetime[6:8]\n",
    "    hh=datetime[-4:-2]\n",
    "    ss=datetime[-2:]\n",
    "    \n",
    "    return(f\"{dd}/{mm}/{yyyy} {hh}:{ss}\")\n",
    "    "
   ]
  },
  {
   "cell_type": "code",
   "execution_count": 7,
   "id": "07e6271d",
   "metadata": {},
   "outputs": [],
   "source": [
    "df[\"ID\"]=df[\"Start_Concat\"].apply(convert_to_four_letter_hash).astype(str)+\"-\"+df[\"End_Concat\"].apply(convert_to_four_letter_hash).astype(str)"
   ]
  },
  {
   "cell_type": "code",
   "execution_count": 8,
   "id": "d513c31c",
   "metadata": {},
   "outputs": [],
   "source": [
    "df[\"Time\"]=df[\"DateTime\"].astype(str).apply(convert_datetime_to_time)"
   ]
  },
  {
   "cell_type": "code",
   "execution_count": 9,
   "id": "dc6003b9",
   "metadata": {},
   "outputs": [],
   "source": [
    "ids=df.ID.unique()"
   ]
  },
  {
   "cell_type": "code",
   "execution_count": 19,
   "id": "359600c7",
   "metadata": {},
   "outputs": [],
   "source": [
    "df[\"PowerTLTMmax[dBm]\"]=5\n",
    "df[\"PowerTLTMmin[dBm]\"]=3\n",
    "df.rename(columns={\"Pmin\": \"PowerRLTMmin[dBm]\", \"Pmax\": \"PowerRLTMmax[dBm]\"}, inplace=True)\n",
    "df.dropna(inplace=True)"
   ]
  },
  {
   "cell_type": "code",
   "execution_count": 21,
   "id": "ee21f578",
   "metadata": {},
   "outputs": [],
   "source": [
    "root=\"~/SageMaker/Rain_Estimation_Using_Loosely_Matched_Stations/CellEnMon/datasets/dme/09062011_13082011/processed\"\n",
    "columns=[\"Time\",\"PowerTLTMmax[dBm]\",\"PowerTLTMmin[dBm]\",\"PowerRLTMmax[dBm]\",\"PowerRLTMmin[dBm]\"]\n",
    "for id in ids[:10]:\n",
    "    T,R=id.split(\"-\")\n",
    "    d=df[df.ID==id]\n",
    "    d.to_csv(f'{root}/{T}_{d.YStart.iloc[0]}_{d.XStart.iloc[0]}_{R}_{d.YEnd.iloc[0]}_{d.XStart.iloc[0]}.csv',index=False, columns=columns)\n",
    "    "
   ]
  },
  {
   "cell_type": "code",
   "execution_count": 20,
   "id": "bc691d95",
   "metadata": {},
   "outputs": [
    {
     "data": {
      "text/html": [
       "<div>\n",
       "<style scoped>\n",
       "    .dataframe tbody tr th:only-of-type {\n",
       "        vertical-align: middle;\n",
       "    }\n",
       "\n",
       "    .dataframe tbody tr th {\n",
       "        vertical-align: top;\n",
       "    }\n",
       "\n",
       "    .dataframe thead th {\n",
       "        text-align: right;\n",
       "    }\n",
       "</style>\n",
       "<table border=\"1\" class=\"dataframe\">\n",
       "  <thead>\n",
       "    <tr style=\"text-align: right;\">\n",
       "      <th></th>\n",
       "      <th>Frequency</th>\n",
       "      <th>DateTime</th>\n",
       "      <th>PowerRLTMmin[dBm]</th>\n",
       "      <th>PowerRLTMmax[dBm]</th>\n",
       "      <th>PathLength</th>\n",
       "      <th>XStart</th>\n",
       "      <th>YStart</th>\n",
       "      <th>XEnd</th>\n",
       "      <th>YEnd</th>\n",
       "      <th>ID</th>\n",
       "      <th>Start_Concat</th>\n",
       "      <th>End_Concat</th>\n",
       "      <th>Time</th>\n",
       "      <th>PowerTLTMmax[dBm]</th>\n",
       "      <th>PowerTLTMmin[dBm]</th>\n",
       "    </tr>\n",
       "  </thead>\n",
       "  <tbody>\n",
       "    <tr>\n",
       "      <th>0</th>\n",
       "      <td>39.263</td>\n",
       "      <td>201106090815</td>\n",
       "      <td>-61.0</td>\n",
       "      <td>-59.0</td>\n",
       "      <td>3.12961</td>\n",
       "      <td>4.75907</td>\n",
       "      <td>52.41104</td>\n",
       "      <td>4.78890</td>\n",
       "      <td>52.38963</td>\n",
       "      <td>XJHB-jwZI</td>\n",
       "      <td>52.41104 4.75907</td>\n",
       "      <td>52.38963 4.7889</td>\n",
       "      <td>09/06/2011 08:15</td>\n",
       "      <td>5</td>\n",
       "      <td>3</td>\n",
       "    </tr>\n",
       "    <tr>\n",
       "      <th>1</th>\n",
       "      <td>39.172</td>\n",
       "      <td>201106090815</td>\n",
       "      <td>-53.0</td>\n",
       "      <td>-51.0</td>\n",
       "      <td>2.89575</td>\n",
       "      <td>5.04335</td>\n",
       "      <td>52.51464</td>\n",
       "      <td>5.07860</td>\n",
       "      <td>52.49999</td>\n",
       "      <td>VUDJ-ImjW</td>\n",
       "      <td>52.51464 5.04335</td>\n",
       "      <td>52.49999 5.0786</td>\n",
       "      <td>09/06/2011 08:15</td>\n",
       "      <td>5</td>\n",
       "      <td>3</td>\n",
       "    </tr>\n",
       "    <tr>\n",
       "      <th>2</th>\n",
       "      <td>39.347</td>\n",
       "      <td>201106090815</td>\n",
       "      <td>-50.0</td>\n",
       "      <td>-50.0</td>\n",
       "      <td>1.14711</td>\n",
       "      <td>4.96120</td>\n",
       "      <td>52.50239</td>\n",
       "      <td>4.97624</td>\n",
       "      <td>52.50708</td>\n",
       "      <td>WbQT-MVOn</td>\n",
       "      <td>52.50239 4.9612</td>\n",
       "      <td>52.50708 4.97624</td>\n",
       "      <td>09/06/2011 08:15</td>\n",
       "      <td>5</td>\n",
       "      <td>3</td>\n",
       "    </tr>\n",
       "    <tr>\n",
       "      <th>3</th>\n",
       "      <td>39.172</td>\n",
       "      <td>201106090815</td>\n",
       "      <td>-48.0</td>\n",
       "      <td>-48.0</td>\n",
       "      <td>4.26850</td>\n",
       "      <td>4.75550</td>\n",
       "      <td>52.44724</td>\n",
       "      <td>4.81687</td>\n",
       "      <td>52.43914</td>\n",
       "      <td>VCRy-sbeU</td>\n",
       "      <td>52.44724 4.7555</td>\n",
       "      <td>52.43914 4.81687</td>\n",
       "      <td>09/06/2011 08:15</td>\n",
       "      <td>5</td>\n",
       "      <td>3</td>\n",
       "    </tr>\n",
       "    <tr>\n",
       "      <th>4</th>\n",
       "      <td>37.069</td>\n",
       "      <td>201106090815</td>\n",
       "      <td>-53.0</td>\n",
       "      <td>-52.0</td>\n",
       "      <td>1.83034</td>\n",
       "      <td>4.81166</td>\n",
       "      <td>52.39787</td>\n",
       "      <td>4.78949</td>\n",
       "      <td>52.40718</td>\n",
       "      <td>NubJ-vcWP</td>\n",
       "      <td>52.39787 4.81166</td>\n",
       "      <td>52.40718 4.78949</td>\n",
       "      <td>09/06/2011 08:15</td>\n",
       "      <td>5</td>\n",
       "      <td>3</td>\n",
       "    </tr>\n",
       "  </tbody>\n",
       "</table>\n",
       "</div>"
      ],
      "text/plain": [
       "   Frequency      DateTime  PowerRLTMmin[dBm]  PowerRLTMmax[dBm]  PathLength  \\\n",
       "0     39.263  201106090815              -61.0              -59.0     3.12961   \n",
       "1     39.172  201106090815              -53.0              -51.0     2.89575   \n",
       "2     39.347  201106090815              -50.0              -50.0     1.14711   \n",
       "3     39.172  201106090815              -48.0              -48.0     4.26850   \n",
       "4     37.069  201106090815              -53.0              -52.0     1.83034   \n",
       "\n",
       "    XStart    YStart     XEnd      YEnd         ID      Start_Concat  \\\n",
       "0  4.75907  52.41104  4.78890  52.38963  XJHB-jwZI  52.41104 4.75907   \n",
       "1  5.04335  52.51464  5.07860  52.49999  VUDJ-ImjW  52.51464 5.04335   \n",
       "2  4.96120  52.50239  4.97624  52.50708  WbQT-MVOn   52.50239 4.9612   \n",
       "3  4.75550  52.44724  4.81687  52.43914  VCRy-sbeU   52.44724 4.7555   \n",
       "4  4.81166  52.39787  4.78949  52.40718  NubJ-vcWP  52.39787 4.81166   \n",
       "\n",
       "         End_Concat              Time  PowerTLTMmax[dBm]  PowerTLTMmin[dBm]  \n",
       "0   52.38963 4.7889  09/06/2011 08:15                  5                  3  \n",
       "1   52.49999 5.0786  09/06/2011 08:15                  5                  3  \n",
       "2  52.50708 4.97624  09/06/2011 08:15                  5                  3  \n",
       "3  52.43914 4.81687  09/06/2011 08:15                  5                  3  \n",
       "4  52.40718 4.78949  09/06/2011 08:15                  5                  3  "
      ]
     },
     "execution_count": 20,
     "metadata": {},
     "output_type": "execute_result"
    }
   ],
   "source": [
    "df.head()"
   ]
  },
  {
   "cell_type": "code",
   "execution_count": null,
   "id": "61921b61",
   "metadata": {},
   "outputs": [],
   "source": []
  }
 ],
 "metadata": {
  "kernelspec": {
   "display_name": "conda_python3",
   "language": "python",
   "name": "conda_python3"
  },
  "language_info": {
   "codemirror_mode": {
    "name": "ipython",
    "version": 3
   },
   "file_extension": ".py",
   "mimetype": "text/x-python",
   "name": "python",
   "nbconvert_exporter": "python",
   "pygments_lexer": "ipython3",
   "version": "3.8.12"
  }
 },
 "nbformat": 4,
 "nbformat_minor": 5
}
