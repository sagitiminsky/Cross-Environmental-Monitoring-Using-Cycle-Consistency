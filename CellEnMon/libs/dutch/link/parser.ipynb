{
 "cells": [
  {
   "cell_type": "code",
   "execution_count": 13,
   "id": "fca411cb",
   "metadata": {},
   "outputs": [],
   "source": [
    "import pandas as pd\n",
    "import os\n",
    "import hashlib\n",
    "import pandas as pd\n",
    "pd.options.mode.chained_assignment = None  # default='warn'"
   ]
  },
  {
   "cell_type": "code",
   "execution_count": 14,
   "id": "a4076fb2",
   "metadata": {},
   "outputs": [],
   "source": [
    "file_path=\"~/SageMaker/Rain_Estimation_Using_Loosely_Matched_Stations/CMLs_20110609_20110813.dat\""
   ]
  },
  {
   "cell_type": "code",
   "execution_count": 15,
   "id": "44bc2805",
   "metadata": {},
   "outputs": [],
   "source": [
    "df = pd.read_table(file_path, sep=\"\\s+\", index_col=False)"
   ]
  },
  {
   "cell_type": "code",
   "execution_count": 16,
   "id": "e2774c0c",
   "metadata": {},
   "outputs": [],
   "source": [
    "df[\"Start_Concat\"]=df[\"YStart\"].astype(str)+\" \"+df[\"XStart\"].astype(str)\n",
    "df[\"End_Concat\"]=df[\"YEnd\"].astype(str)+\" \"+df[\"XEnd\"].astype(str)"
   ]
  },
  {
   "cell_type": "code",
   "execution_count": 17,
   "id": "476756f3",
   "metadata": {},
   "outputs": [],
   "source": [
    "def convert_to_four_letter_hash(concat):\n",
    "    h = hashlib.sha1(str.encode(concat))\n",
    "    d = h.digest()\n",
    "    s = \"\"\n",
    "    for i in range(0,4):\n",
    "        x = d[i] % 52\n",
    "        if x >= 26:\n",
    "            s += chr(ord('A') + x - 26)\n",
    "        else:\n",
    "            s += chr(ord('a') + x)\n",
    "    return s"
   ]
  },
  {
   "cell_type": "code",
   "execution_count": 18,
   "id": "eac009aa",
   "metadata": {},
   "outputs": [
    {
     "name": "stdout",
     "output_type": "stream",
     "text": [
      "XmQw-fTxW\n"
     ]
    }
   ],
   "source": [
    "print(f'{convert_to_four_letter_hash(\"51.80485 5.11687\")}-{convert_to_four_letter_hash(\"51.83246 5.08996\")}')\n"
   ]
  },
  {
   "cell_type": "code",
   "execution_count": 19,
   "id": "7a01cd6b",
   "metadata": {},
   "outputs": [],
   "source": [
    "def convert_datetime_to_time(datetime):\n",
    "    yyyy=datetime[:4]\n",
    "    mm=datetime[4:6]\n",
    "    dd=datetime[6:8]\n",
    "    hh=datetime[-4:-2]\n",
    "    ss=datetime[-2:]\n",
    "    \n",
    "    return(f\"{dd}-{mm}-{yyyy} {hh}:{ss}\")\n",
    "    "
   ]
  },
  {
   "cell_type": "code",
   "execution_count": 20,
   "id": "9a8f640c",
   "metadata": {},
   "outputs": [],
   "source": [
    "df[\"ID\"]=df[\"Start_Concat\"].apply(convert_to_four_letter_hash).astype(str)+\"-\"+df[\"End_Concat\"].apply(convert_to_four_letter_hash).astype(str)"
   ]
  },
  {
   "cell_type": "code",
   "execution_count": 21,
   "id": "0d143a3c",
   "metadata": {},
   "outputs": [],
   "source": [
    "df[\"Time\"]=df[\"DateTime\"].astype(str).apply(convert_datetime_to_time)"
   ]
  },
  {
   "cell_type": "code",
   "execution_count": 22,
   "id": "77f557e6",
   "metadata": {},
   "outputs": [],
   "source": [
    "ids=df.ID.unique()"
   ]
  },
  {
   "cell_type": "code",
   "execution_count": 23,
   "id": "93dc3c7d",
   "metadata": {},
   "outputs": [],
   "source": [
    "df[\"PowerTLTMmax[dBm]\"]=5\n",
    "df[\"PowerTLTMmin[dBm]\"]=4.8\n",
    "df.rename(columns={\"Pmin\": \"PowerRLTMmin[dBm]\", \"Pmax\": \"PowerRLTMmax[dBm]\"}, inplace=True)\n",
    "df.dropna(inplace=True)"
   ]
  },
  {
   "cell_type": "code",
   "execution_count": 24,
   "id": "df2ce957",
   "metadata": {},
   "outputs": [],
   "source": [
    "root=\"~/SageMaker/Rain_Estimation_Using_Loosely_Matched_Stations/CellEnMon/datasets/dme/09062011_13082011/raw\"\n",
    "columns=[\"Time\",\"PowerTLTMmax[dBm]\",\"PowerTLTMmin[dBm]\",\"PowerRLTMmax[dBm]\",\"PowerRLTMmin[dBm]\"]\n",
    "for id in ids[:100]:\n",
    "    T,R=id.split(\"-\")\n",
    "    d=df[df.ID==id]\n",
    "    d.to_csv(f'{root}/{T}_{d.YStart.iloc[0]}_{d.XStart.iloc[0]}_{R}_{d.YEnd.iloc[0]}_{d.XEnd.iloc[0]}.csv',index=False, columns=columns)\n",
    "    "
   ]
  },
  {
   "cell_type": "code",
   "execution_count": null,
   "id": "69149239",
   "metadata": {},
   "outputs": [],
   "source": [
    "df"
   ]
  },
  {
   "cell_type": "code",
   "execution_count": null,
   "id": "5888b98e",
   "metadata": {},
   "outputs": [],
   "source": []
  }
 ],
 "metadata": {
  "kernelspec": {
   "display_name": "conda_python3",
   "language": "python",
   "name": "conda_python3"
  },
  "language_info": {
   "codemirror_mode": {
    "name": "ipython",
    "version": 3
   },
   "file_extension": ".py",
   "mimetype": "text/x-python",
   "name": "python",
   "nbconvert_exporter": "python",
   "pygments_lexer": "ipython3",
   "version": "3.8.12"
  }
 },
 "nbformat": 4,
 "nbformat_minor": 5
}
