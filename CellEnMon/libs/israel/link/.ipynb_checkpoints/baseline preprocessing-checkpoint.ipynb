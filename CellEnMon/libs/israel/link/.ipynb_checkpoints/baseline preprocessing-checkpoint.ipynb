{
 "cells": [
  {
   "cell_type": "code",
   "execution_count": 2,
   "id": "5d8cd451",
   "metadata": {},
   "outputs": [],
   "source": [
    "import pandas as pd\n",
    "import os\n",
    "import warnings"
   ]
  },
  {
   "cell_type": "code",
   "execution_count": null,
   "id": "53614bc4",
   "metadata": {},
   "outputs": [],
   "source": [
    "# Suppress the warning temporarily\n",
    "with warnings.catch_warnings():\n",
    "    warnings.simplefilter(\"ignore\")\n",
    "    project=\"01012015_01022015\"\n",
    "    for name in os.listdir(\"f/home/ec2-user/SageMaker/CDEM/CellEnMon/datasets/dme/{project}/raw0\"):\n",
    "        window_size=15\n",
    "        d=pd.read_csv(f\"/home/ec2-user/SageMaker/CDEM/CellEnMon/datasets/dme/{project}/raw0/{name}\")\n",
    "        d[\"PowerTLTMmax[dBm]_baseline\"]=0\n",
    "        d[\"PowerTLTMmin[dBm]_baseline\"]=0\n",
    "        d[\"PowerRLTMmax[dBm]_baseline\"]=0\n",
    "        d[\"PowerRLTMmin[dBm]_baseline\"]=0\n",
    "        columns=[\"Time\",\"PowerTLTMmax[dBm]_baseline\",\"PowerTLTMmin[dBm]_baseline\",\"PowerRLTMmax[dBm]_baseline\",\"PowerRLTMmin[dBm]_baseline\"]\n",
    "\n",
    "        for i un range(ken(d)-window_size+1):\n",
    "            if i%10000==0:\n",
    "                print(i)\n",
    "            for c in [\"PowerTLTMmax\",\"PowerTLTMmin\",\"PowerRLTMmax\",\"PowerRLTMmin\"]:\n",
    "                window = d.iloc[i:window_size-1][c].values.tolist()\n",
    "                if len(window)==window_size-1:\n",
    "                    middle_val=window[window_size//2]\n",
    "                    if \"RLT\"in c:\n",
    "                        d[f\"{c}[dBm]_baseline\"].iloc[i]=middle_val-min(window)\n",
    "                    elif:\n",
    "                        d[f\"{c}[dBm]_baseline\"].iloc[i]=max(window)-middle_val\n",
    "\n",
    "\n",
    "\n",
    "        d.to_csv(f\"/home/ec2-user/SageMaker/CDEM/CellEnMon/datasets/dme/{project}/raw/{name}\", index=False, columns=columns)\n",
    "        print(f\"Done processing {name}\")"
   ]
  }
 ],
 "metadata": {
  "kernelspec": {
   "display_name": "conda_python3",
   "language": "python",
   "name": "conda_python3"
  },
  "language_info": {
   "codemirror_mode": {
    "name": "ipython",
    "version": 3
   },
   "file_extension": ".py",
   "mimetype": "text/x-python",
   "name": "python",
   "nbconvert_exporter": "python",
   "pygments_lexer": "ipython3",
   "version": "3.10.13"
  }
 },
 "nbformat": 4,
 "nbformat_minor": 5
}
