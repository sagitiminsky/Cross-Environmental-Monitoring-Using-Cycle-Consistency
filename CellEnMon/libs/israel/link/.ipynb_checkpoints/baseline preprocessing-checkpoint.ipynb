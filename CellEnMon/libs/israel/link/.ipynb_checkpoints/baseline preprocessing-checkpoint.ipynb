{
 "cells": [
  {
   "cell_type": "code",
   "execution_count": 2,
   "id": "395bce42",
   "metadata": {},
   "outputs": [],
   "source": [
    "import pandas as pd\n",
    "import os\n",
    "import warnings"
   ]
  },
  {
   "cell_type": "code",
   "execution_count": 11,
   "id": "bd976959",
   "metadata": {},
   "outputs": [
    {
     "ename": "KeyError",
     "evalue": "'PowerRLTMmin[dBm]'",
     "output_type": "error",
     "traceback": [
      "\u001b[0;31m---------------------------------------------------------------------------\u001b[0m",
      "\u001b[0;31mKeyError\u001b[0m                                  Traceback (most recent call last)",
      "File \u001b[0;32m~/anaconda3/envs/python3/lib/python3.10/site-packages/pandas/core/indexes/base.py:3805\u001b[0m, in \u001b[0;36mIndex.get_loc\u001b[0;34m(self, key)\u001b[0m\n\u001b[1;32m   3804\u001b[0m \u001b[38;5;28;01mtry\u001b[39;00m:\n\u001b[0;32m-> 3805\u001b[0m     \u001b[38;5;28;01mreturn\u001b[39;00m \u001b[38;5;28;43mself\u001b[39;49m\u001b[38;5;241;43m.\u001b[39;49m\u001b[43m_engine\u001b[49m\u001b[38;5;241;43m.\u001b[39;49m\u001b[43mget_loc\u001b[49m\u001b[43m(\u001b[49m\u001b[43mcasted_key\u001b[49m\u001b[43m)\u001b[49m\n\u001b[1;32m   3806\u001b[0m \u001b[38;5;28;01mexcept\u001b[39;00m \u001b[38;5;167;01mKeyError\u001b[39;00m \u001b[38;5;28;01mas\u001b[39;00m err:\n",
      "File \u001b[0;32mindex.pyx:167\u001b[0m, in \u001b[0;36mpandas._libs.index.IndexEngine.get_loc\u001b[0;34m()\u001b[0m\n",
      "File \u001b[0;32mindex.pyx:196\u001b[0m, in \u001b[0;36mpandas._libs.index.IndexEngine.get_loc\u001b[0;34m()\u001b[0m\n",
      "File \u001b[0;32mpandas/_libs/hashtable_class_helper.pxi:7081\u001b[0m, in \u001b[0;36mpandas._libs.hashtable.PyObjectHashTable.get_item\u001b[0;34m()\u001b[0m\n",
      "File \u001b[0;32mpandas/_libs/hashtable_class_helper.pxi:7089\u001b[0m, in \u001b[0;36mpandas._libs.hashtable.PyObjectHashTable.get_item\u001b[0;34m()\u001b[0m\n",
      "\u001b[0;31mKeyError\u001b[0m: 'PowerRLTMmin[dBm]'",
      "\nThe above exception was the direct cause of the following exception:\n",
      "\u001b[0;31mKeyError\u001b[0m                                  Traceback (most recent call last)",
      "Cell \u001b[0;32mIn[11], line 11\u001b[0m\n\u001b[1;32m      9\u001b[0m d[\u001b[38;5;124m\"\u001b[39m\u001b[38;5;124mPowerTLTMmin[dBm]_baseline\u001b[39m\u001b[38;5;124m\"\u001b[39m]\u001b[38;5;241m=\u001b[39m d[\u001b[38;5;124m\"\u001b[39m\u001b[38;5;124mPowerTLTMmin\u001b[39m\u001b[38;5;124m\"\u001b[39m]\n\u001b[1;32m     10\u001b[0m d[\u001b[38;5;124m\"\u001b[39m\u001b[38;5;124mPowerRLTMmax[dBm]_baseline\u001b[39m\u001b[38;5;124m\"\u001b[39m]\u001b[38;5;241m=\u001b[39m d[\u001b[38;5;124m\"\u001b[39m\u001b[38;5;124mPowerRLTMmax\u001b[39m\u001b[38;5;124m\"\u001b[39m]\n\u001b[0;32m---> 11\u001b[0m d[\u001b[38;5;124m\"\u001b[39m\u001b[38;5;124mPowerRLTMmin[dBm]_baseline\u001b[39m\u001b[38;5;124m\"\u001b[39m]\u001b[38;5;241m=\u001b[39m\u001b[43md\u001b[49m\u001b[43m[\u001b[49m\u001b[38;5;124;43m\"\u001b[39;49m\u001b[38;5;124;43mPowerRLTMmin[dBm]\u001b[39;49m\u001b[38;5;124;43m\"\u001b[39;49m\u001b[43m]\u001b[49m\n\u001b[1;32m     12\u001b[0m columns\u001b[38;5;241m=\u001b[39m[\u001b[38;5;124m\"\u001b[39m\u001b[38;5;124mTime\u001b[39m\u001b[38;5;124m\"\u001b[39m,\u001b[38;5;124m\"\u001b[39m\u001b[38;5;124mPowerTLTMmax[dBm]_baseline\u001b[39m\u001b[38;5;124m\"\u001b[39m,\u001b[38;5;124m\"\u001b[39m\u001b[38;5;124mPowerTLTMmin[dBm]_baseline\u001b[39m\u001b[38;5;124m\"\u001b[39m,\u001b[38;5;124m\"\u001b[39m\u001b[38;5;124mPowerRLTMmax[dBm]_baseline\u001b[39m\u001b[38;5;124m\"\u001b[39m,\u001b[38;5;124m\"\u001b[39m\u001b[38;5;124mPowerRLTMmin[dBm]_baseline\u001b[39m\u001b[38;5;124m\"\u001b[39m]\n\u001b[1;32m     14\u001b[0m \u001b[38;5;28mprint\u001b[39m(name)\n",
      "File \u001b[0;32m~/anaconda3/envs/python3/lib/python3.10/site-packages/pandas/core/frame.py:4102\u001b[0m, in \u001b[0;36mDataFrame.__getitem__\u001b[0;34m(self, key)\u001b[0m\n\u001b[1;32m   4100\u001b[0m \u001b[38;5;28;01mif\u001b[39;00m \u001b[38;5;28mself\u001b[39m\u001b[38;5;241m.\u001b[39mcolumns\u001b[38;5;241m.\u001b[39mnlevels \u001b[38;5;241m>\u001b[39m \u001b[38;5;241m1\u001b[39m:\n\u001b[1;32m   4101\u001b[0m     \u001b[38;5;28;01mreturn\u001b[39;00m \u001b[38;5;28mself\u001b[39m\u001b[38;5;241m.\u001b[39m_getitem_multilevel(key)\n\u001b[0;32m-> 4102\u001b[0m indexer \u001b[38;5;241m=\u001b[39m \u001b[38;5;28;43mself\u001b[39;49m\u001b[38;5;241;43m.\u001b[39;49m\u001b[43mcolumns\u001b[49m\u001b[38;5;241;43m.\u001b[39;49m\u001b[43mget_loc\u001b[49m\u001b[43m(\u001b[49m\u001b[43mkey\u001b[49m\u001b[43m)\u001b[49m\n\u001b[1;32m   4103\u001b[0m \u001b[38;5;28;01mif\u001b[39;00m is_integer(indexer):\n\u001b[1;32m   4104\u001b[0m     indexer \u001b[38;5;241m=\u001b[39m [indexer]\n",
      "File \u001b[0;32m~/anaconda3/envs/python3/lib/python3.10/site-packages/pandas/core/indexes/base.py:3812\u001b[0m, in \u001b[0;36mIndex.get_loc\u001b[0;34m(self, key)\u001b[0m\n\u001b[1;32m   3807\u001b[0m     \u001b[38;5;28;01mif\u001b[39;00m \u001b[38;5;28misinstance\u001b[39m(casted_key, \u001b[38;5;28mslice\u001b[39m) \u001b[38;5;129;01mor\u001b[39;00m (\n\u001b[1;32m   3808\u001b[0m         \u001b[38;5;28misinstance\u001b[39m(casted_key, abc\u001b[38;5;241m.\u001b[39mIterable)\n\u001b[1;32m   3809\u001b[0m         \u001b[38;5;129;01mand\u001b[39;00m \u001b[38;5;28many\u001b[39m(\u001b[38;5;28misinstance\u001b[39m(x, \u001b[38;5;28mslice\u001b[39m) \u001b[38;5;28;01mfor\u001b[39;00m x \u001b[38;5;129;01min\u001b[39;00m casted_key)\n\u001b[1;32m   3810\u001b[0m     ):\n\u001b[1;32m   3811\u001b[0m         \u001b[38;5;28;01mraise\u001b[39;00m InvalidIndexError(key)\n\u001b[0;32m-> 3812\u001b[0m     \u001b[38;5;28;01mraise\u001b[39;00m \u001b[38;5;167;01mKeyError\u001b[39;00m(key) \u001b[38;5;28;01mfrom\u001b[39;00m \u001b[38;5;21;01merr\u001b[39;00m\n\u001b[1;32m   3813\u001b[0m \u001b[38;5;28;01mexcept\u001b[39;00m \u001b[38;5;167;01mTypeError\u001b[39;00m:\n\u001b[1;32m   3814\u001b[0m     \u001b[38;5;66;03m# If we have a listlike key, _check_indexing_error will raise\u001b[39;00m\n\u001b[1;32m   3815\u001b[0m     \u001b[38;5;66;03m#  InvalidIndexError. Otherwise we fall through and re-raise\u001b[39;00m\n\u001b[1;32m   3816\u001b[0m     \u001b[38;5;66;03m#  the TypeError.\u001b[39;00m\n\u001b[1;32m   3817\u001b[0m     \u001b[38;5;28mself\u001b[39m\u001b[38;5;241m.\u001b[39m_check_indexing_error(key)\n",
      "\u001b[0;31mKeyError\u001b[0m: 'PowerRLTMmin[dBm]'"
     ]
    }
   ],
   "source": [
    "# Suppress the warning temporarily\n",
    "with warnings.catch_warnings():\n",
    "    warnings.simplefilter(\"ignore\")\n",
    "    project=\"01012015_01022015\"\n",
    "    for name in os.listdir(f\"/home/ec2-user/SageMaker/CDEM/CellEnMon/datasets/dme/{project}/raw1\"):\n",
    "        window_size=15\n",
    "        d=pd.read_csv(f\"/home/ec2-user/SageMaker/CDEM/CellEnMon/datasets/dme/{project}/raw1/{name}\")\n",
    "        d[\"PowerTLTMmax[dBm]_baseline\"]= d[\"PowerTLTMmax\"]\n",
    "        d[\"PowerTLTMmin[dBm]_baseline\"]= d[\"PowerTLTMmin\"]\n",
    "        d[\"PowerRLTMmax[dBm]_baseline\"]= d[\"PowerRLTMmax\"]\n",
    "        d[\"PowerRLTMmin[dBm]_baseline\"]= d[\"PowerRLTMmin\"]\n",
    "        columns=[\"Time\",\"PowerTLTMmax[dBm]_baseline\",\"PowerTLTMmin[dBm]_baseline\",\"PowerRLTMmax[dBm]_baseline\",\"PowerRLTMmin[dBm]_baseline\"]\n",
    "        \n",
    "        print(name)\n",
    "        \n",
    "#         try:\n",
    "#             for i in range(len(d)-window_size+1):\n",
    "#                 if i%10000==0:\n",
    "#                     print(i)\n",
    "#                 for c in [\"PowerTLTMmax\",\"PowerTLTMmin\",\"PowerRLTMmax\",\"PowerRLTMmin\"]:\n",
    "#                     window = d.iloc[i:i+window_size-1][c].values.tolist()\n",
    "#                     if len(window)==window_size-1:\n",
    "#                         middle_val=window[window_size//2]\n",
    "#                         if \"RLT\" in c:\n",
    "#                             d[f\"{c}[dBm]_baseline\"].iloc[i]=f\"{float(middle_val)-float(min(window)) :.1f}\"\n",
    "#                         elif \"TLT\" in c:\n",
    "#                             d[f\"{c}[dBm]_baseline\"].iloc[i]=f\"{float(max(window))-float(middle_val) :.1f}\"\n",
    "\n",
    "#         except ValueError:\n",
    "#             continue\n",
    "        \n",
    "        \n",
    "        #Sync with ims (i.e upsample 15 min to 10 min)\n",
    "\n",
    "        # Set 'Time' as the index\n",
    "        d['Time'] = pd.to_datetime(d['Time'])\n",
    "        \n",
    "        \n",
    "        # Check for duplicates\n",
    "        if d['Time'].duplicated().any():\n",
    "            print(\"Duplicates found. Removing duplicates.\")\n",
    "            d = d.drop_duplicates(subset='Time', keep='first')\n",
    "        \n",
    "        d.set_index('Time', inplace=True)\n",
    "\n",
    "        # Resample to 10-minute intervals and forward fill the missing values\n",
    "        d = d.resample('10T').ffill()\n",
    "        \n",
    "        d.reset_index().to_csv(f\"/home/ec2-user/SageMaker/CDEM/CellEnMon/datasets/dme/{project}/raw/{name}\", index=False, columns=columns)\n",
    "        print(f\"Done processing {name}\")"
   ]
  },
  {
   "cell_type": "code",
   "execution_count": null,
   "id": "3ddb91b3",
   "metadata": {},
   "outputs": [],
   "source": []
  }
 ],
 "metadata": {
  "kernelspec": {
   "display_name": "conda_python3",
   "language": "python",
   "name": "conda_python3"
  },
  "language_info": {
   "codemirror_mode": {
    "name": "ipython",
    "version": 3
   },
   "file_extension": ".py",
   "mimetype": "text/x-python",
   "name": "python",
   "nbconvert_exporter": "python",
   "pygments_lexer": "ipython3",
   "version": "3.10.14"
  }
 },
 "nbformat": 4,
 "nbformat_minor": 5
}
