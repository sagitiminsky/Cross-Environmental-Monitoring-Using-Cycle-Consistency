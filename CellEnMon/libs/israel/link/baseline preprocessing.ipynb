{
 "cells": [
  {
   "cell_type": "code",
   "execution_count": 2,
   "id": "395bce42",
   "metadata": {},
   "outputs": [],
   "source": [
    "import pandas as pd\n",
    "import os\n",
    "import warnings"
   ]
  },
  {
   "cell_type": "code",
   "execution_count": 12,
   "id": "bd976959",
   "metadata": {},
   "outputs": [
    {
     "name": "stdout",
     "output_type": "stream",
     "text": [
      "b459_30.051_35.009_a690_30.038_35.040.csv\n",
      "Duplicates found. Removing duplicates.\n",
      "Done processing b459_30.051_35.009_a690_30.038_35.040.csv\n",
      "a477_30.098_35.153_b379_30.153_35.149.csv\n",
      "Duplicates found. Removing duplicates.\n",
      "Done processing a477_30.098_35.153_b379_30.153_35.149.csv\n",
      "b480_30.513_34.951_a458_30.297_34.976.csv\n",
      "Duplicates found. Removing duplicates.\n",
      "Done processing b480_30.513_34.951_a458_30.297_34.976.csv\n",
      "a459_30.051_35.009_803b_30.220_35.013.csv\n",
      "Duplicates found. Removing duplicates.\n",
      "Done processing a459_30.051_35.009_803b_30.220_35.013.csv\n",
      "b465_30.615_34.803_d481_30.731_34.771.csv\n",
      "Duplicates found. Removing duplicates.\n",
      "Done processing b465_30.615_34.803_d481_30.731_34.771.csv\n",
      "a479_29.921_35.081_b477_30.098_35.153.csv\n",
      "Duplicates found. Removing duplicates.\n",
      "Done processing a479_29.921_35.081_b477_30.098_35.153.csv\n",
      "a473_30.356_35.171_b119_30.476_35.173.csv\n",
      "Duplicates found. Removing duplicates.\n",
      "Done processing a473_30.356_35.171_b119_30.476_35.173.csv\n",
      "b394_31.244_34.795_ts04_31.300_34.912.csv\n",
      "Duplicates found. Removing duplicates.\n",
      "Done processing b394_31.244_34.795_ts04_31.300_34.912.csv\n",
      "c078_30.802_34.714_d088_30.936_34.585.csv\n",
      "Duplicates found. Removing duplicates.\n",
      "Done processing c078_30.802_34.714_d088_30.936_34.585.csv\n",
      "462d_30.972_34.780_c088_30.936_34.585.csv\n",
      "Duplicates found. Removing duplicates.\n",
      "Done processing 462d_30.972_34.780_c088_30.936_34.585.csv\n",
      "f350_31.103_35.041_e483_31.185_34.944.csv\n",
      "Duplicates found. Removing duplicates.\n",
      "Done processing f350_31.103_35.041_e483_31.185_34.944.csv\n",
      "b451_31.044_35.189_a350_31.103_35.041.csv\n",
      "Duplicates found. Removing duplicates.\n",
      "Done processing b451_31.044_35.189_a350_31.103_35.041.csv\n"
     ]
    }
   ],
   "source": [
    "# Suppress the warning temporarily\n",
    "with warnings.catch_warnings():\n",
    "    warnings.simplefilter(\"ignore\")\n",
    "    project=\"01012015_01022015\"\n",
    "    for name in os.listdir(f\"/home/ec2-user/SageMaker/CDEM/CellEnMon/datasets/dme/{project}/raw1\"):\n",
    "        window_size=15\n",
    "        d=pd.read_csv(f\"/home/ec2-user/SageMaker/CDEM/CellEnMon/datasets/dme/{project}/raw1/{name}\")\n",
    "        d[\"PowerTLTMmax[dBm]_baseline\"]= d[\"PowerTLTMmax\"]\n",
    "        d[\"PowerTLTMmin[dBm]_baseline\"]= d[\"PowerTLTMmin\"]\n",
    "        d[\"PowerRLTMmax[dBm]_baseline\"]= d[\"PowerRLTMmax\"]\n",
    "        d[\"PowerRLTMmin[dBm]_baseline\"]= d[\"PowerRLTMmin\"]\n",
    "        columns=[\"Time\",\"PowerTLTMmax[dBm]_baseline\",\"PowerTLTMmin[dBm]_baseline\",\"PowerRLTMmax[dBm]_baseline\",\"PowerRLTMmin[dBm]_baseline\"]\n",
    "        \n",
    "        print(name)\n",
    "        \n",
    "#         try:\n",
    "#             for i in range(len(d)-window_size+1):\n",
    "#                 if i%10000==0:\n",
    "#                     print(i)\n",
    "#                 for c in [\"PowerTLTMmax\",\"PowerTLTMmin\",\"PowerRLTMmax\",\"PowerRLTMmin\"]:\n",
    "#                     window = d.iloc[i:i+window_size-1][c].values.tolist()\n",
    "#                     if len(window)==window_size-1:\n",
    "#                         middle_val=window[window_size//2]\n",
    "#                         if \"RLT\" in c:\n",
    "#                             d[f\"{c}[dBm]_baseline\"].iloc[i]=f\"{float(middle_val)-float(min(window)) :.1f}\"\n",
    "#                         elif \"TLT\" in c:\n",
    "#                             d[f\"{c}[dBm]_baseline\"].iloc[i]=f\"{float(max(window))-float(middle_val) :.1f}\"\n",
    "\n",
    "#         except ValueError:\n",
    "#             continue\n",
    "        \n",
    "        \n",
    "        #Sync with ims (i.e upsample 15 min to 10 min)\n",
    "\n",
    "        # Set 'Time' as the index\n",
    "        d['Time'] = pd.to_datetime(d['Time'])\n",
    "        \n",
    "        \n",
    "        # Check for duplicates\n",
    "        if d['Time'].duplicated().any():\n",
    "            print(\"Duplicates found. Removing duplicates.\")\n",
    "            d = d.drop_duplicates(subset='Time', keep='first')\n",
    "        \n",
    "        d.set_index('Time', inplace=True)\n",
    "\n",
    "        # Resample to 10-minute intervals and forward fill the missing values\n",
    "        d = d.resample('10T').ffill()\n",
    "        \n",
    "        d.reset_index().to_csv(f\"/home/ec2-user/SageMaker/CDEM/CellEnMon/datasets/dme/{project}/raw/{name}\", index=False, columns=columns)\n",
    "        print(f\"Done processing {name}\")"
   ]
  },
  {
   "cell_type": "code",
   "execution_count": null,
   "id": "3ddb91b3",
   "metadata": {},
   "outputs": [],
   "source": []
  }
 ],
 "metadata": {
  "kernelspec": {
   "display_name": "conda_python3",
   "language": "python",
   "name": "conda_python3"
  },
  "language_info": {
   "codemirror_mode": {
    "name": "ipython",
    "version": 3
   },
   "file_extension": ".py",
   "mimetype": "text/x-python",
   "name": "python",
   "nbconvert_exporter": "python",
   "pygments_lexer": "ipython3",
   "version": "3.10.14"
  }
 },
 "nbformat": 4,
 "nbformat_minor": 5
}
